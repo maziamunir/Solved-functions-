{
 "cells": [
  {
   "cell_type": "markdown",
   "id": "3cddad5c",
   "metadata": {},
   "source": [
    "# Functions in Python: A Primer for Business Data Analysts"
   ]
  },
  {
   "cell_type": "markdown",
   "id": "9be8489d",
   "metadata": {},
   "source": [
    "## Introduction\n",
    "### Functions are fundamental building blocks in Python programming. They allow you to encapsulate a specific task or calculation into a reusable block of code. This promotes modularity, reusability, and readability in your scripts.\n",
    "\n",
    "## Defining a Function\n",
    "### To define a function in Python, you use the def keyword followed by the function name and parentheses. Inside the parentheses, you can define parameters, which are variables that accept input values. The function's body is indented and contains the code that will be executed when the function is called."
   ]
  },
  {
   "cell_type": "code",
   "execution_count": null,
   "id": "4040b2ae",
   "metadata": {},
   "outputs": [],
   "source": [
    "def greet(name):\n",
    "  print(\"Hello, \" + name + \"!\")"
   ]
  },
  {
   "cell_type": "markdown",
   "id": "a8a04000",
   "metadata": {},
   "source": [
    "## Calling a Function\n",
    "### To execute a function, you simply call it by its name, followed by any necessary arguments:"
   ]
  },
  {
   "cell_type": "code",
   "execution_count": null,
   "id": "2d499e44",
   "metadata": {},
   "outputs": [],
   "source": [
    "greet(\"Imran\")  # Output: Hello, Imran!"
   ]
  },
  {
   "cell_type": "code",
   "execution_count": null,
   "id": "1219cd90",
   "metadata": {},
   "outputs": [],
   "source": [
    "greet(\"Imran\")  # Output: Hello, Imran!"
   ]
  },
  {
   "cell_type": "markdown",
   "id": "6e1eb5dc",
   "metadata": {},
   "source": [
    "## Function Parameters and Arguments\n",
    "### Parameters: These are the variables defined within the function's parentheses. They act as placeholders for values that will be passed to the function when it's called.\n",
    "### Arguments: These are the actual values passed to the function when it's called. They are assigned to the corresponding parameters."
   ]
  },
  {
   "cell_type": "code",
   "execution_count": null,
   "id": "03828542",
   "metadata": {},
   "outputs": [],
   "source": [
    "def calculate_area(length, width):\n",
    "  area = length * width\n",
    "  return area\n",
    "\n",
    "result = calculate_area(5, 3)\n",
    "print(result)  # Output: 15"
   ]
  },
  {
   "cell_type": "markdown",
   "id": "5968901e",
   "metadata": {},
   "source": [
    "## Return Statement\n",
    "### The return statement is used to specify the value that a function should return. Once the return statement is executed, the function terminates and the specified value is returned to the caller."
   ]
  },
  {
   "cell_type": "markdown",
   "id": "29da4f9d",
   "metadata": {},
   "source": [
    "## Practice Exercises\n",
    "\n",
    "### Simple Function:\n",
    "#### Create a function named greet_with_time that takes a name as input and prints a greeting message along with the current time.\n",
    "### Function with Multiple Parameters:\n",
    "#### Write a function called calculate_average that takes three numbers as input and returns their average.\n",
    "### Default Argument:\n",
    "#### Define a function calculate_discount that takes a price and a discount percentage as input. Set a default discount percentage of 10%.\n",
    "### Keyword Arguments:\n",
    "#### Create a function print_info that takes a name, age, and city as keyword arguments.\n",
    "### Variable-Length Arguments:\n",
    "#### Write a function find_max that can take any number of arguments and returns the maximum value.\n",
    "### Recursive Function:\n",
    "#### Implement a recursive function to calculate the factorial of a number.\n",
    "### Function as an Argument:\n",
    "#### Define a function apply_function that takes a function and a list of numbers as input. Apply the function to each number in the list and return a new list with the results.\n",
    "### Lambda Functions:\n",
    "#### Create a lambda function to square a number.\n",
    "### Higher-Order Functions:\n",
    "#### Write a function apply_operation that takes a function and a list of numbers. Apply the function to each number and return a new list.\n",
    "### Function Decorators:\n",
    "#### Implement a decorator to measure the execution time of a function."
   ]
  },
  {
   "cell_type": "code",
   "execution_count": 71,
   "id": "d789f197-7ae8-4586-8be3-8d3867e72a75",
   "metadata": {},
   "outputs": [
    {
     "name": "stdout",
     "output_type": "stream",
     "text": [
      "Hey Ali ! and time is 2024-11-30 13:05:53.116035\n"
     ]
    }
   ],
   "source": [
    "#Create a function named greet_with_time that takes a name as input and prints a greeting message along with the current time.\n",
    "\n",
    "import datetime\n",
    "\n",
    "def greet_with_time(name) :\n",
    "    c_t= datetime.datetime.now()\n",
    "    print (f'Hey { name } ! and time is {c_t}')\n",
    "\n",
    "\n",
    "greet_with_time ('Ali')"
   ]
  },
  {
   "cell_type": "code",
   "execution_count": 31,
   "id": "7e8c01ab-59ba-48f1-8981-3c546586baee",
   "metadata": {},
   "outputs": [
    {
     "name": "stdout",
     "output_type": "stream",
     "text": [
      "17.333333333333332\n"
     ]
    }
   ],
   "source": [
    "#Write a function called calculate_average that takes three numbers as input and returns their average.\n",
    "\n",
    "def c_a(x,y,z):\n",
    "    avg = (x+y+z)/3\n",
    "    print (avg)\n",
    "\n",
    "\n",
    "c_a(15,11,26)"
   ]
  },
  {
   "cell_type": "code",
   "execution_count": 43,
   "id": "dd408781-3b88-4365-b8f9-346abc23109c",
   "metadata": {},
   "outputs": [
    {
     "name": "stdin",
     "output_type": "stream",
     "text": [
      "Enter price :  7500\n"
     ]
    },
    {
     "name": "stdout",
     "output_type": "stream",
     "text": [
      "You got discount of RS : 750.0\n"
     ]
    }
   ],
   "source": [
    "#Define a function calculate_discount that takes a price and a discount percentage as input. Set a default discount percentage of 10%.\n",
    "\n",
    "def calculate_discount(price):\n",
    "    price=int(input('Enter price : '))\n",
    "    disc=price*0.10\n",
    "    print('You got discount of RS :', disc)\n",
    "\n",
    "\n",
    "\n",
    "calculate_discount('disc')\n"
   ]
  },
  {
   "cell_type": "code",
   "execution_count": 70,
   "id": "bfd4461e-7551-498c-9651-54a5182ea2ef",
   "metadata": {},
   "outputs": [
    {
     "name": "stdin",
     "output_type": "stream",
     "text": [
      "Enter your name: Aun\n",
      "Enter your age : 19\n",
      "Enter your city : Lahore\n"
     ]
    },
    {
     "name": "stdout",
     "output_type": "stream",
     "text": [
      "Your name is Aun ,your age is 19 and you live in Lahore\n"
     ]
    }
   ],
   "source": [
    "#Create a function print_info that takes a name, age, and city as keyword arguments.\n",
    "\n",
    "def print_info(n,a,c):\n",
    "    name=input('Enter your name:')\n",
    "    age=int(input('Enter your age :'))\n",
    "    city=input('Enter your city :')\n",
    "\n",
    "    print(f'Your name is {name} ,your age is {age} and you live in {city}')\n",
    "\n",
    "\n",
    "    \n",
    "\n",
    "\n",
    "\n",
    "\n",
    "print_info('x','y','z')\n",
    "\n",
    "    \n",
    "    "
   ]
  },
  {
   "cell_type": "code",
   "execution_count": 51,
   "id": "d033e4d2-c6f0-4137-987d-53428714572b",
   "metadata": {},
   "outputs": [
    {
     "name": "stdout",
     "output_type": "stream",
     "text": [
      "997 is greater. \n"
     ]
    }
   ],
   "source": [
    "#Write a function find_max that can take any number of arguments and returns the maximum value.\n",
    "\n",
    "def find_max(a,b,c):\n",
    "    if a>b and a>c:\n",
    "        print(f'{a} is greater.')\n",
    "    if b>c and b>a:\n",
    "        print(f'{b} is greater.')\n",
    "    if c>a and c>b:\n",
    "        print(f'{c} is greater. ')\n",
    "\n",
    "find_max(a=99,b=198,c=997)\n",
    "        \n",
    "        \n"
   ]
  },
  {
   "cell_type": "code",
   "execution_count": 69,
   "id": "ff87ba35-7913-44aa-a252-ad67a2ecb3b0",
   "metadata": {},
   "outputs": [
    {
     "data": {
      "text/plain": [
       "120"
      ]
     },
     "execution_count": 69,
     "metadata": {},
     "output_type": "execute_result"
    }
   ],
   "source": [
    "#Implement a recursive function to calculate the factorial of a number.\n",
    "\n",
    "def factorial(n):\n",
    "    \n",
    "    if n == 0 or n == 1:\n",
    "        return 1\n",
    "    else:\n",
    "        return n * factorial(n - 1)\n",
    "\n",
    "factorial (n=5)"
   ]
  },
  {
   "cell_type": "code",
   "execution_count": 1,
   "id": "51ab26c3-c1e6-4623-b74b-b3827e58ba1b",
   "metadata": {},
   "outputs": [
    {
     "data": {
      "text/plain": [
       "[1, 4, 9, 16, 25]"
      ]
     },
     "execution_count": 1,
     "metadata": {},
     "output_type": "execute_result"
    }
   ],
   "source": [
    "#Define a function apply_function that takes a function and a list of numbers as input. Apply the function to each number in the list and return a new list with the results.\n",
    "\n",
    "def apply_function(func, numbers):\n",
    "    return [func(num) for num in numbers]\n",
    "\n",
    "def square(x):\n",
    "    return x * x\n",
    "\n",
    "numbers = [1, 2, 3, 4, 5]\n",
    "apply_function(square, numbers)"
   ]
  },
  {
   "cell_type": "code",
   "execution_count": null,
   "id": "7129f566-db3e-4604-85db-82f370ef9365",
   "metadata": {},
   "outputs": [],
   "source": []
  },
  {
   "cell_type": "code",
   "execution_count": null,
   "id": "5c53f00c-d2a9-4949-9980-1650aaa7ebea",
   "metadata": {},
   "outputs": [],
   "source": [
    "\n"
   ]
  }
 ],
 "metadata": {
  "kernelspec": {
   "display_name": "Python 3 (ipykernel)",
   "language": "python",
   "name": "python3"
  },
  "language_info": {
   "codemirror_mode": {
    "name": "ipython",
    "version": 3
   },
   "file_extension": ".py",
   "mimetype": "text/x-python",
   "name": "python",
   "nbconvert_exporter": "python",
   "pygments_lexer": "ipython3",
   "version": "3.12.4"
  }
 },
 "nbformat": 4,
 "nbformat_minor": 5
}
